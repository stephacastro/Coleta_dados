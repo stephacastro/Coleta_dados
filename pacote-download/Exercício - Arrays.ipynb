{
 "cells": [
  {
   "cell_type": "markdown",
   "metadata": {},
   "source": [
    "# Criando Arrays"
   ]
  },
  {
   "cell_type": "code",
   "execution_count": 3,
   "metadata": {},
   "outputs": [],
   "source": [
    "import numpy as np"
   ]
  },
  {
   "cell_type": "code",
   "execution_count": 6,
   "metadata": {},
   "outputs": [
    {
     "name": "stdout",
     "output_type": "stream",
     "text": [
      "[[1. 0. 0. 0. 0.]\n",
      " [0. 1. 0. 0. 0.]\n",
      " [0. 0. 1. 0. 0.]\n",
      " [0. 0. 0. 1. 0.]\n",
      " [0. 0. 0. 0. 1.]]\n"
     ]
    }
   ],
   "source": [
    "# Crie uma matriz identidade com dimensão 5 x 5\n",
    "array = np.eye(5)\n",
    "print(array)"
   ]
  },
  {
   "cell_type": "code",
   "execution_count": 10,
   "metadata": {},
   "outputs": [
    {
     "name": "stdout",
     "output_type": "stream",
     "text": [
      "[[1. 1. 1.]\n",
      " [1. 1. 1.]\n",
      " [1. 1. 1.]]\n"
     ]
    }
   ],
   "source": [
    "# Crie uma matriz 3x3 com todos os elementos iguais a 1\n",
    "array1 = np.ones((3,3))\n",
    "print(array1)"
   ]
  },
  {
   "cell_type": "code",
   "execution_count": 11,
   "metadata": {},
   "outputs": [
    {
     "name": "stdout",
     "output_type": "stream",
     "text": [
      "[[[0.56958724 0.33769504 0.20352817 0.59444565 0.69667658 0.09558206\n",
      "   0.86328024 0.26857795 0.2780421  0.28693563 0.36381131 0.09584412\n",
      "   0.42341328 0.34118925 0.58011723 0.08415614 0.15143833 0.11194917\n",
      "   0.97566188 0.13391455]\n",
      "  [0.520768   0.32448506 0.24810193 0.06943151 0.67020379 0.85145195\n",
      "   0.91355193 0.37591981 0.60147737 0.7386006  0.78580915 0.9786456\n",
      "   0.08428054 0.45080214 0.4103558  0.43129701 0.02443186 0.92880755\n",
      "   0.49845073 0.72060787]\n",
      "  [0.92072177 0.45108157 0.57531155 0.54261055 0.64083757 0.73636494\n",
      "   0.24771156 0.98166573 0.67129179 0.17962015 0.81724303 0.21768678\n",
      "   0.74530169 0.6665278  0.90933925 0.78396875 0.35557727 0.2321628\n",
      "   0.12885075 0.88514324]]\n",
      "\n",
      " [[0.70215769 0.57051583 0.34413227 0.35620217 0.7440846  0.87549821\n",
      "   0.32536734 0.92485059 0.29157368 0.45887652 0.62275641 0.4566004\n",
      "   0.38531561 0.2233909  0.93723043 0.66712361 0.93638453 0.72120296\n",
      "   0.25855722 0.17933497]\n",
      "  [0.27239813 0.25143782 0.06101662 0.28125733 0.69729466 0.24520745\n",
      "   0.96611032 0.38826831 0.20832165 0.71322129 0.51992741 0.9012971\n",
      "   0.88159114 0.25729021 0.86983758 0.4312293  0.69918337 0.01181584\n",
      "   0.95235617 0.60494995]\n",
      "  [0.69336296 0.67331864 0.89313987 0.37377464 0.00697028 0.7987881\n",
      "   0.01578004 0.61573712 0.13903421 0.25495409 0.15484625 0.41707683\n",
      "   0.2796556  0.0703922  0.10847368 0.3179086  0.94482241 0.97474124\n",
      "   0.12227198 0.06773935]]]\n"
     ]
    }
   ],
   "source": [
    "# Crie uma matriz 2x3 com elementos de valores aleatórios entre 0 e 20\n",
    "array2 = np.random.rand(2,3,20)\n",
    "print(array2)"
   ]
  },
  {
   "cell_type": "code",
   "execution_count": 33,
   "metadata": {},
   "outputs": [
    {
     "name": "stdout",
     "output_type": "stream",
     "text": [
      "[9 8 7 6 5 4 3 2 1]\n"
     ]
    }
   ],
   "source": [
    "# Crie o vetor \n",
    "array3 = np.arange(9, 0, -1)\n",
    "print(array3)"
   ]
  },
  {
   "cell_type": "code",
   "execution_count": null,
   "metadata": {},
   "outputs": [],
   "source": []
  }
 ],
 "metadata": {
  "kernelspec": {
   "display_name": "estudos_dados",
   "language": "python",
   "name": "estudos_dados"
  },
  "language_info": {
   "codemirror_mode": {
    "name": "ipython",
    "version": 3
   },
   "file_extension": ".py",
   "mimetype": "text/x-python",
   "name": "python",
   "nbconvert_exporter": "python",
   "pygments_lexer": "ipython3",
   "version": "3.7.6"
  }
 },
 "nbformat": 4,
 "nbformat_minor": 4
}
