{
 "cells": [
  {
   "cell_type": "markdown",
   "metadata": {},
   "source": [
    "# NumPy"
   ]
  },
  {
   "cell_type": "code",
   "execution_count": 3,
   "metadata": {},
   "outputs": [],
   "source": [
    "import numpy as np"
   ]
  },
  {
   "cell_type": "code",
   "execution_count": 12,
   "metadata": {},
   "outputs": [
    {
     "name": "stdout",
     "output_type": "stream",
     "text": [
      "[0 1 2 3 4 5]\n",
      "<class 'numpy.ndarray'>\n",
      "1\n"
     ]
    }
   ],
   "source": [
    "# Criando um array\n",
    "a = np.array([0, 1, 2, 3, 4, 5])\n",
    "print(a)\n",
    "print(type(a))\n",
    "print(a.ndim)"
   ]
  },
  {
   "cell_type": "markdown",
   "metadata": {},
   "source": [
    "# Criação de Arrays"
   ]
  },
  {
   "cell_type": "code",
   "execution_count": 15,
   "metadata": {},
   "outputs": [
    {
     "name": "stdout",
     "output_type": "stream",
     "text": [
      "[[0 1 2]\n",
      " [3 4 5]]\n",
      "2\n",
      "(2, 3)\n",
      "2\n"
     ]
    }
   ],
   "source": [
    "# Construção Manual de Arrays / bidimencional\n",
    "b = np.array([[0,1,2], [3,4,5]])\n",
    "print(b)\n",
    "# esse método me diz a dimensão desse array\n",
    "print(b.ndim)\n",
    "# esse método permite a visualização o formato do array. quantas linhas/colunas tem\n",
    "print(b.shape)\n",
    "# retorna o numero de linhas, valor da primeira dimensão\n",
    "print(len(b))"
   ]
  },
  {
   "cell_type": "code",
   "execution_count": 18,
   "metadata": {},
   "outputs": [
    {
     "name": "stdout",
     "output_type": "stream",
     "text": [
      "[ 0  1  2  3  4  5  6  7  8  9 10 11 12 13 14 15 16 17 18 19 20 21 22 23\n",
      " 24 25 26 27 28 29 30 31 32 33 34 35 36 37 38 39 40 41 42 43 44 45 46 47\n",
      " 48 49 50 51 52 53 54 55 56 57 58 59 60 61 62 63 64 65 66 67 68 69 70 71\n",
      " 72 73 74 75 76 77 78 79 80 81 82 83 84 85 86 87 88 89 90 91 92 93 94 95\n",
      " 96 97 98 99]\n",
      "[ 1.  2.  3.  4.  5.  6.  7.  8.  9. 10.]\n"
     ]
    }
   ],
   "source": [
    "# Criação utilizando funções\n",
    "# nesta função você tem 3 parametros, inicio, até a onde e de quanto em quanto\n",
    "c = np.arange(0, 100, 1)\n",
    "print(c)\n",
    "\n",
    "# é uma função que tbm permite criar um array espaçado, mas aqui você quantos elementos você quer em \n",
    "# deteerminado intervalo\n",
    "d = np.linspace(1, 10, 10)\n",
    "print(d)"
   ]
  },
  {
   "cell_type": "markdown",
   "metadata": {},
   "source": [
    "# Arrays Comuns"
   ]
  },
  {
   "cell_type": "code",
   "execution_count": 22,
   "metadata": {},
   "outputs": [
    {
     "name": "stdout",
     "output_type": "stream",
     "text": [
      "[1. 1. 1. 1. 1. 1. 1. 1. 1. 1.]\n",
      "[[1. 1. 1. 1. 1.]\n",
      " [1. 1. 1. 1. 1.]\n",
      " [1. 1. 1. 1. 1.]\n",
      " [1. 1. 1. 1. 1.]\n",
      " [1. 1. 1. 1. 1.]]\n",
      "[0. 0. 0. 0. 0.]\n"
     ]
    }
   ],
   "source": [
    "# Criando um arrays de 1 (uns)\n",
    "e = np.ones(10)\n",
    "print(e)\n",
    "\n",
    "# Para criar um arrays de mais de uma dimensão é preciso usar um shape, definindo linhas e colunas\n",
    "f = np.ones((5,5))\n",
    "print(f)\n",
    "\n",
    "# Função zeros para arrays 0\n",
    "g = np.zeros(5)\n",
    "print(g)"
   ]
  },
  {
   "cell_type": "code",
   "execution_count": 29,
   "metadata": {},
   "outputs": [
    {
     "name": "stdout",
     "output_type": "stream",
     "text": [
      "[[0.89412604 0.17664091 0.52236803]\n",
      " [0.0636452  0.69191811 0.13137166]]\n"
     ]
    }
   ],
   "source": [
    "# Matriz(array) de números aleatórios\n",
    "h = np.random.rand(2,3)\n",
    "print(h)"
   ]
  },
  {
   "cell_type": "code",
   "execution_count": 25,
   "metadata": {},
   "outputs": [
    {
     "name": "stdout",
     "output_type": "stream",
     "text": [
      "[[1. 0. 0.]\n",
      " [0. 1. 0.]\n",
      " [0. 0. 1.]]\n"
     ]
    }
   ],
   "source": [
    "# Função eye cria uma matriz de identidade e ela possui valores da sua diagonal principal (o valor é 1)\n",
    "i = np.eye(3)\n",
    "print(i)"
   ]
  },
  {
   "cell_type": "code",
   "execution_count": 26,
   "metadata": {},
   "outputs": [
    {
     "name": "stdout",
     "output_type": "stream",
     "text": [
      "[[1 0 0 0]\n",
      " [0 2 0 0]\n",
      " [0 0 3 0]\n",
      " [0 0 0 4]]\n"
     ]
    }
   ],
   "source": [
    "# Função diag você consegue inserir valores na sua diagonal principal - matriz bidimencional quadrada\n",
    "f = np.diag(np.array([1,2,3,4]))\n",
    "print(f)"
   ]
  },
  {
   "cell_type": "markdown",
   "metadata": {},
   "source": [
    "# Indexação e Slices de array"
   ]
  },
  {
   "cell_type": "code",
   "execution_count": 10,
   "metadata": {},
   "outputs": [
    {
     "name": "stdout",
     "output_type": "stream",
     "text": [
      "[10 11 12 13 14 15 16 17 18 19 20]\n"
     ]
    },
    {
     "data": {
      "text/plain": [
       "20"
      ]
     },
     "execution_count": 10,
     "metadata": {},
     "output_type": "execute_result"
    }
   ],
   "source": [
    "a1 = np.arange(10, 21)\n",
    "\n",
    "print(a1)\n",
    "\n",
    "# Fazendo um Slice no meu array - acessando posições especificas\n",
    "a1[10]\n",
    "\n",
    "# Tambem é possivel acessar as posições de forma negativa - de tras para frente \n",
    "a1[-1]"
   ]
  },
  {
   "cell_type": "code",
   "execution_count": 16,
   "metadata": {},
   "outputs": [
    {
     "name": "stdout",
     "output_type": "stream",
     "text": [
      "[[0.16985185 0.81812412 0.95064203 0.45675537 0.59968241]\n",
      " [0.62396069 0.67522863 0.86526686 0.29417711 0.01713081]\n",
      " [0.17162772 0.69646965 0.54525772 0.88071398 0.48802663]\n",
      " [0.71067461 0.9328771  0.23747695 0.4266339  0.97153886]\n",
      " [0.38531872 0.89856086 0.91034798 0.2946781  0.38234726]]\n",
      "[[ 0.16985185 10.          0.95064203  0.45675537  0.59968241]\n",
      " [ 0.62396069  0.67522863  0.86526686  0.29417711  0.01713081]\n",
      " [ 0.17162772  0.69646965  0.54525772  0.88071398  0.48802663]\n",
      " [ 0.71067461  0.9328771   0.23747695  0.4266339   0.97153886]\n",
      " [ 0.38531872  0.89856086  0.91034798  0.2946781   0.38234726]]\n"
     ]
    }
   ],
   "source": [
    "b2 = np.random.rand(5,5)\n",
    "\n",
    "print(b2)\n",
    "\n",
    "# Fazendo uma indexação no meu array - acessando posições especificas com arrey bidimencional\n",
    "b2[0,4]\n",
    "\n",
    "# Alterei a minha matriz/elemento para o valor 10\n",
    "b2[0,1] = 10\n",
    "\n",
    "print(b2)"
   ]
  },
  {
   "cell_type": "code",
   "execution_count": 30,
   "metadata": {},
   "outputs": [
    {
     "name": "stdout",
     "output_type": "stream",
     "text": [
      "[10 11 12 13 14 15 16 17 18 19 20]\n",
      "[12 13 14]\n",
      "[10 11 12 13 14]\n",
      "[12 13 14 15 16 17 18 19 20]\n",
      "[10 11 12 13 14 15 16 17 18 19 20]\n",
      "[12 14 16]\n",
      "[18 17 16 15 14 13]\n"
     ]
    }
   ],
   "source": [
    "# Slices \n",
    "c2 = np.arange(10,21)\n",
    "print(c2)\n",
    "\n",
    "# Fazendo o slice\n",
    "print(c2[2:5])\n",
    "print(c2[:5])\n",
    "print(c2[2:])\n",
    "print(c2[:])\n",
    "print(c2[2:7:2])\n",
    "print(c2[8:2:-1])"
   ]
  },
  {
   "cell_type": "code",
   "execution_count": 32,
   "metadata": {},
   "outputs": [
    {
     "name": "stdout",
     "output_type": "stream",
     "text": [
      "[[0.0072489  0.07898371 0.36510338 0.38571169 0.80592393]\n",
      " [0.25316909 0.7891767  0.11570451 0.53694598 0.58710538]\n",
      " [0.85686477 0.34654026 0.33480362 0.46514014 0.32997581]\n",
      " [0.18628458 0.12130821 0.28285138 0.34614105 0.8805982 ]\n",
      " [0.43549983 0.09134849 0.08699427 0.48590605 0.37326053]]\n",
      "\n",
      "\n",
      "[0.36510338 0.11570451]\n"
     ]
    }
   ],
   "source": [
    "# Slice em array bidimencional\n",
    "d2 = np.random.rand(5,5)\n",
    "print(d2)\n",
    "print('\\n')\n",
    "\n",
    "# primeiro é a linha, segunda posião é coluna e a terceira é o elemento\n",
    "print(d2[0:2, 2])"
   ]
  },
  {
   "cell_type": "markdown",
   "metadata": {},
   "source": [
    "# Operações com Arrays Numpy"
   ]
  },
  {
   "cell_type": "code",
   "execution_count": 38,
   "metadata": {},
   "outputs": [
    {
     "name": "stdout",
     "output_type": "stream",
     "text": [
      "[1. 1. 1. 1. 1. 1. 1. 1. 1. 1.]\n"
     ]
    },
    {
     "data": {
      "text/plain": [
       "array([0.5, 0.5, 0.5, 0.5, 0.5, 0.5, 0.5, 0.5, 0.5, 0.5])"
      ]
     },
     "execution_count": 38,
     "metadata": {},
     "output_type": "execute_result"
    }
   ],
   "source": [
    "# Com escalares\n",
    "import numpy as np\n",
    "a3 = np.ones(10)\n",
    "print(a3)\n",
    "a3 * 10\n",
    "a3 / 2"
   ]
  },
  {
   "cell_type": "code",
   "execution_count": 41,
   "metadata": {},
   "outputs": [
    {
     "name": "stdout",
     "output_type": "stream",
     "text": [
      "[ 8  8  2  9 18 17  4  2]\n"
     ]
    },
    {
     "data": {
      "text/plain": [
       "array([  4096,   4096,     16,   6561, 104976,  83521,    256,     16],\n",
       "      dtype=int32)"
      ]
     },
     "execution_count": 41,
     "metadata": {},
     "output_type": "execute_result"
    }
   ],
   "source": [
    "b3 = np.random.randint(1,20,8)\n",
    "print(b3)\n",
    "b3 - 2\n",
    "b3 ** 4"
   ]
  },
  {
   "cell_type": "code",
   "execution_count": 47,
   "metadata": {},
   "outputs": [
    {
     "name": "stdout",
     "output_type": "stream",
     "text": [
      "[94 20 61 98  6 92 21 18]\n"
     ]
    },
    {
     "data": {
      "text/plain": [
       "array([0.08510638, 0.4       , 0.03278689, 0.09183673, 3.        ,\n",
       "       0.18478261, 0.19047619, 0.11111111])"
      ]
     },
     "execution_count": 47,
     "metadata": {},
     "output_type": "execute_result"
    }
   ],
   "source": [
    "c3 = np.random.randint(1,100,8)\n",
    "print(c3)\n",
    "b3 + c3\n",
    "b3 - c3\n",
    "b3 * c3\n",
    "b3 / c3"
   ]
  },
  {
   "cell_type": "code",
   "execution_count": 49,
   "metadata": {},
   "outputs": [
    {
     "name": "stdout",
     "output_type": "stream",
     "text": [
      "[[8 3]\n",
      " [7 7]\n",
      " [3 8]]\n"
     ]
    }
   ],
   "source": [
    "# Matriz 3 x 2\n",
    "m1 = np.random.randint(1, 10, (3, 2))\n",
    "print(m1)"
   ]
  },
  {
   "cell_type": "code",
   "execution_count": 50,
   "metadata": {},
   "outputs": [
    {
     "name": "stdout",
     "output_type": "stream",
     "text": [
      "[[1 6 2]\n",
      " [3 5 9]]\n"
     ]
    }
   ],
   "source": [
    "m2 = np.random.randint(1,10,(2,3))\n",
    "print(m2)"
   ]
  },
  {
   "cell_type": "code",
   "execution_count": 53,
   "metadata": {},
   "outputs": [
    {
     "data": {
      "text/plain": [
       "array([[17, 63, 43],\n",
       "       [28, 77, 77],\n",
       "       [27, 58, 78]])"
      ]
     },
     "execution_count": 53,
     "metadata": {},
     "output_type": "execute_result"
    }
   ],
   "source": [
    "# Multiplicação de matrizes\n",
    "m1.dot(m2)"
   ]
  },
  {
   "cell_type": "code",
   "execution_count": null,
   "metadata": {},
   "outputs": [],
   "source": [
    "# Multiplicação de Array(matrizes)\n",
    "m3 = np.ones((3,2))\n",
    "m4 = np.ones((2,3))\n",
    "\n",
    "print(m3)\n",
    "print(m4)\n",
    "m3.dot(m4)"
   ]
  },
  {
   "cell_type": "markdown",
   "metadata": {},
   "source": [
    "# Comparações"
   ]
  },
  {
   "cell_type": "code",
   "execution_count": 57,
   "metadata": {},
   "outputs": [
    {
     "data": {
      "text/plain": [
       "False"
      ]
     },
     "execution_count": 57,
     "metadata": {},
     "output_type": "execute_result"
    }
   ],
   "source": [
    "s = np.array([1,2,2,1])\n",
    "p = np.array([3,2,3,1])\n",
    "\n",
    "#Comparando elemento por elemento dentro do array\n",
    "s == p\n",
    "\n",
    "#Comparando o array inteiro \n",
    "np.array_equal(s,p)"
   ]
  },
  {
   "cell_type": "markdown",
   "metadata": {},
   "source": [
    "# Métodos de Funções Matemáticas"
   ]
  },
  {
   "cell_type": "code",
   "execution_count": 58,
   "metadata": {},
   "outputs": [
    {
     "data": {
      "text/plain": [
       "array([0.84147098, 0.90929743, 0.90929743, 0.84147098])"
      ]
     },
     "execution_count": 58,
     "metadata": {},
     "output_type": "execute_result"
    }
   ],
   "source": [
    "# Calculando ceno\n",
    "np.sin(s)"
   ]
  },
  {
   "cell_type": "code",
   "execution_count": 61,
   "metadata": {},
   "outputs": [
    {
     "data": {
      "text/plain": [
       "9"
      ]
     },
     "execution_count": 61,
     "metadata": {},
     "output_type": "execute_result"
    }
   ],
   "source": [
    "# soma\n",
    "np.sum(p)"
   ]
  },
  {
   "cell_type": "code",
   "execution_count": 63,
   "metadata": {},
   "outputs": [
    {
     "data": {
      "text/plain": [
       "1.5"
      ]
     },
     "execution_count": 63,
     "metadata": {},
     "output_type": "execute_result"
    }
   ],
   "source": [
    "# media \n",
    "np.mean(s)"
   ]
  },
  {
   "cell_type": "code",
   "execution_count": 65,
   "metadata": {},
   "outputs": [
    {
     "data": {
      "text/plain": [
       "0.6875"
      ]
     },
     "execution_count": 65,
     "metadata": {},
     "output_type": "execute_result"
    }
   ],
   "source": [
    "# variancia\n",
    "np.var(p)"
   ]
  },
  {
   "cell_type": "markdown",
   "metadata": {},
   "source": [
    "# Métodos Importantes e Máscaras em Arrays"
   ]
  },
  {
   "cell_type": "raw",
   "metadata": {},
   "source": [
    "1. Métodos Importantes \n",
    "ndim - dimensão de um array\n",
    "shape - retorna o formato\n",
    "dtype - retorna o tipo de dado do array\n",
    "min - retorna o valor minimo do array\n",
    "max - retorna o valor maximo do array\n",
    "argmin - retorna a posição do menor elemento\n",
    "argmax - retorna a posição do maior elemento\n",
    "sum - retorna a soma\n",
    "mean - retorna a média\n",
    "var - retorna a variancia\n",
    "std - desvio padrão \n",
    "sort - ordenação de array\n",
    "T - calcula a transposta\n",
    "reshape\n",
    "2. Máscaras"
   ]
  },
  {
   "cell_type": "code",
   "execution_count": 67,
   "metadata": {},
   "outputs": [
    {
     "data": {
      "text/plain": [
       "array([ 1.44355251,  0.07647714,  0.16564774,  0.43677244, -0.13553711,\n",
       "       -1.08973634,  1.43723081, -1.48373251, -1.26630841, -0.97870541])"
      ]
     },
     "execution_count": 67,
     "metadata": {},
     "output_type": "execute_result"
    }
   ],
   "source": [
    "array0 = np.random.randn(10)\n",
    "array0"
   ]
  },
  {
   "cell_type": "code",
   "execution_count": 68,
   "metadata": {},
   "outputs": [
    {
     "data": {
      "text/plain": [
       "array([[-0.35411078,  1.32905232, -0.73841469],\n",
       "       [ 0.66998563,  0.45394668, -0.26464296],\n",
       "       [-1.68329019,  0.14290498,  0.28377198]])"
      ]
     },
     "execution_count": 68,
     "metadata": {},
     "output_type": "execute_result"
    }
   ],
   "source": [
    "mtx = np.random.randn(3,3)\n",
    "mtx"
   ]
  },
  {
   "cell_type": "code",
   "execution_count": 70,
   "metadata": {},
   "outputs": [
    {
     "data": {
      "text/plain": [
       "2"
      ]
     },
     "execution_count": 70,
     "metadata": {},
     "output_type": "execute_result"
    }
   ],
   "source": [
    "# ndim retorna a dimensão de um array\n",
    "array0.ndim\n",
    "mtx.ndim"
   ]
  },
  {
   "cell_type": "code",
   "execution_count": 72,
   "metadata": {},
   "outputs": [
    {
     "data": {
      "text/plain": [
       "(3, 3)"
      ]
     },
     "execution_count": 72,
     "metadata": {},
     "output_type": "execute_result"
    }
   ],
   "source": [
    "# shape retorna o formato\n",
    "mtx.shape"
   ]
  },
  {
   "cell_type": "code",
   "execution_count": 73,
   "metadata": {},
   "outputs": [
    {
     "data": {
      "text/plain": [
       "dtype('float64')"
      ]
     },
     "execution_count": 73,
     "metadata": {},
     "output_type": "execute_result"
    }
   ],
   "source": [
    "# dtype retorna o tipo do array\n",
    "array0.dtype"
   ]
  },
  {
   "cell_type": "code",
   "execution_count": 75,
   "metadata": {},
   "outputs": [
    {
     "data": {
      "text/plain": [
       "-1.4837325068016292"
      ]
     },
     "execution_count": 75,
     "metadata": {},
     "output_type": "execute_result"
    }
   ],
   "source": [
    "# min retorna o valor minimo do array\n",
    "array0.min()"
   ]
  },
  {
   "cell_type": "code",
   "execution_count": 76,
   "metadata": {},
   "outputs": [
    {
     "data": {
      "text/plain": [
       "1.443552508480389"
      ]
     },
     "execution_count": 76,
     "metadata": {},
     "output_type": "execute_result"
    }
   ],
   "source": [
    "# max retorna o valor maximo de um array \n",
    "array0.max()"
   ]
  },
  {
   "cell_type": "code",
   "execution_count": null,
   "metadata": {},
   "outputs": [],
   "source": [
    "# argmin retorna a posição do menor elemento"
   ]
  },
  {
   "cell_type": "code",
   "execution_count": 77,
   "metadata": {},
   "outputs": [
    {
     "data": {
      "text/plain": [
       "7"
      ]
     },
     "execution_count": 77,
     "metadata": {},
     "output_type": "execute_result"
    }
   ],
   "source": [
    "array0.argmin()"
   ]
  },
  {
   "cell_type": "code",
   "execution_count": 78,
   "metadata": {},
   "outputs": [
    {
     "data": {
      "text/plain": [
       "0"
      ]
     },
     "execution_count": 78,
     "metadata": {},
     "output_type": "execute_result"
    }
   ],
   "source": [
    "# argmin retorna a posição do maior elemento\n",
    "array0.argmax()"
   ]
  },
  {
   "cell_type": "code",
   "execution_count": 79,
   "metadata": {},
   "outputs": [
    {
     "data": {
      "text/plain": [
       "-1.3943391386045985"
      ]
     },
     "execution_count": 79,
     "metadata": {},
     "output_type": "execute_result"
    }
   ],
   "source": [
    "# sum - retorna a soma\n",
    "array0.sum()"
   ]
  },
  {
   "cell_type": "code",
   "execution_count": 80,
   "metadata": {},
   "outputs": [
    {
     "data": {
      "text/plain": [
       "-0.13943391386045983"
      ]
     },
     "execution_count": 80,
     "metadata": {},
     "output_type": "execute_result"
    }
   ],
   "source": [
    "# mean - retorna a média\n",
    "array0.mean()"
   ]
  },
  {
   "cell_type": "code",
   "execution_count": 82,
   "metadata": {},
   "outputs": [
    {
     "data": {
      "text/plain": [
       "1.014787520132299"
      ]
     },
     "execution_count": 82,
     "metadata": {},
     "output_type": "execute_result"
    }
   ],
   "source": [
    "# var - retorna a variancia\n",
    "array0.var()"
   ]
  },
  {
   "cell_type": "code",
   "execution_count": 83,
   "metadata": {},
   "outputs": [
    {
     "data": {
      "text/plain": [
       "1.0073666264733505"
      ]
     },
     "execution_count": 83,
     "metadata": {},
     "output_type": "execute_result"
    }
   ],
   "source": [
    "# std - desvio padrão \n",
    "array0.std()"
   ]
  },
  {
   "cell_type": "code",
   "execution_count": 85,
   "metadata": {},
   "outputs": [
    {
     "data": {
      "text/plain": [
       "array([-1.48373251, -1.26630841, -1.08973634, -0.97870541, -0.13553711,\n",
       "        0.07647714,  0.16564774,  0.43677244,  1.43723081,  1.44355251])"
      ]
     },
     "execution_count": 85,
     "metadata": {},
     "output_type": "execute_result"
    }
   ],
   "source": [
    "# sort - ordenação de array - ordena em ordem decrescente\n",
    "array0.sort()\n",
    "array0"
   ]
  },
  {
   "cell_type": "code",
   "execution_count": 86,
   "metadata": {},
   "outputs": [
    {
     "data": {
      "text/plain": [
       "array([[-0.35411078,  0.66998563, -1.68329019],\n",
       "       [ 1.32905232,  0.45394668,  0.14290498],\n",
       "       [-0.73841469, -0.26464296,  0.28377198]])"
      ]
     },
     "execution_count": 86,
     "metadata": {},
     "output_type": "execute_result"
    }
   ],
   "source": [
    "# T - calcula a transposta\n",
    "mtx.T"
   ]
  },
  {
   "cell_type": "markdown",
   "metadata": {},
   "source": [
    "# Máscaras"
   ]
  },
  {
   "cell_type": "code",
   "execution_count": 87,
   "metadata": {},
   "outputs": [
    {
     "data": {
      "text/plain": [
       "array([3, 4])"
      ]
     },
     "execution_count": 87,
     "metadata": {},
     "output_type": "execute_result"
    }
   ],
   "source": [
    "# Com mascaras é possivel selecionar os elementos que você quer enxergar\n",
    "aa = np.array([1,2,3,4])\n",
    "# Só vai me retornar as posições True\n",
    "aa[[False, False, True, True]]"
   ]
  },
  {
   "cell_type": "code",
   "execution_count": 88,
   "metadata": {},
   "outputs": [
    {
     "data": {
      "text/plain": [
       "array([False, False,  True,  True])"
      ]
     },
     "execution_count": 88,
     "metadata": {},
     "output_type": "execute_result"
    }
   ],
   "source": [
    "aa >= 3"
   ]
  },
  {
   "cell_type": "code",
   "execution_count": 89,
   "metadata": {},
   "outputs": [
    {
     "data": {
      "text/plain": [
       "array([3, 4])"
      ]
     },
     "execution_count": 89,
     "metadata": {},
     "output_type": "execute_result"
    }
   ],
   "source": [
    "aa[aa >= 3]"
   ]
  },
  {
   "cell_type": "code",
   "execution_count": 90,
   "metadata": {},
   "outputs": [
    {
     "data": {
      "text/plain": [
       "array([2, 4])"
      ]
     },
     "execution_count": 90,
     "metadata": {},
     "output_type": "execute_result"
    }
   ],
   "source": [
    "aa[aa % 2 == 0]"
   ]
  },
  {
   "cell_type": "code",
   "execution_count": 91,
   "metadata": {},
   "outputs": [
    {
     "data": {
      "text/plain": [
       "array([False,  True, False,  True])"
      ]
     },
     "execution_count": 91,
     "metadata": {},
     "output_type": "execute_result"
    }
   ],
   "source": [
    "aa % 2 == 0"
   ]
  },
  {
   "cell_type": "code",
   "execution_count": null,
   "metadata": {},
   "outputs": [],
   "source": []
  }
 ],
 "metadata": {
  "kernelspec": {
   "display_name": "estudos_dados",
   "language": "python",
   "name": "estudos_dados"
  },
  "language_info": {
   "codemirror_mode": {
    "name": "ipython",
    "version": 3
   },
   "file_extension": ".py",
   "mimetype": "text/x-python",
   "name": "python",
   "nbconvert_exporter": "python",
   "pygments_lexer": "ipython3",
   "version": "3.7.6"
  }
 },
 "nbformat": 4,
 "nbformat_minor": 4
}
