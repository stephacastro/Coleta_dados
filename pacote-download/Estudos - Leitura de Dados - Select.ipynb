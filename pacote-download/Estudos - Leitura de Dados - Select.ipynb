{
 "cells": [
  {
   "cell_type": "markdown",
   "metadata": {},
   "source": [
    "# Estudos - Leitura de Dados - Select"
   ]
  },
  {
   "cell_type": "code",
   "execution_count": 4,
   "metadata": {},
   "outputs": [],
   "source": [
    "import sqlite3\n",
    "import random\n",
    "import time\n",
    "import datetime\n",
    "\n",
    "# Criando a conexão\n",
    "conn = sqlite3.connect('dsa.db')\n",
    "\n",
    "# Criando o cursor\n",
    "cur = conn.cursor()\n",
    "\n",
    "# Função para criar uma tabela\n",
    "def create_table():\n",
    "    cur.execute('CREATE TABLE IF NOT EXISTS produtos(id INTEGER PRIMARY KEY AUTOINCREMENT NOT NULL, date TEXT, '\\\n",
    "                'prod_name TEXT, valor REAL)')\n",
    "    \n",
    "# Função para inserir uma linha\n",
    "def data_insert():\n",
    "    cur.execute(\"INSERT INTO produtos VALUES('2018-05-02 12:34:45', 'Teclado', 130.00)\")\n",
    "    conn.commit()\n",
    "    cur.close()\n",
    "    conn.close()\n",
    "    \n",
    "# Usando variaveis para inserir dados\n",
    "def data_insert_var():\n",
    "    new_date = datetime.datetime.now()\n",
    "    new_prod_name = 'Monitor'\n",
    "    new_valor = random.randrange(50,100)\n",
    "    cur.execute(\"INSERT INTO produtos (date, prod_name, valor) VALUES (?,?,?)\", \n",
    "                (new_date, new_prod_name, new_valor))\n",
    "    conn.commit()\n",
    "\n",
    "# Leitura de dados\n",
    "def leitura_todos_dados():\n",
    "    cur.execute(\"SELECT * FROM PRODUTOS\")\n",
    "    for linha in cur.fetchall():\n",
    "        print(linha)\n",
    "        \n",
    "# Leitura de registros especificos\n",
    "def leitura_registros():\n",
    "    cur.execute('SELECT * FROM PRODUTOS WHERE valor > 60.0')\n",
    "    for linha in cur.fetchall():\n",
    "        print(linha)\n",
    "    \n",
    "# Leitura de colunas específicos\n",
    "def leitura_colunas():\n",
    "    cur.execute(\"SELECT * FROM PRODUTOS\")\n",
    "    for linha in cur.fetchall():\n",
    "        print(linha[3])"
   ]
  },
  {
   "cell_type": "code",
   "execution_count": 5,
   "metadata": {},
   "outputs": [
    {
     "name": "stdout",
     "output_type": "stream",
     "text": [
      "(10, '2018-05-02 14:32:11', 'TECLADO', 90.0)\n",
      "(11, '2021-12-21 21:48:46.487506', 'Monitor', 79.0)\n",
      "(12, '2021-12-21 21:48:47.503144', 'Monitor', 85.0)\n",
      "(13, '2021-12-21 21:48:48.517087', 'Monitor', 66.0)\n",
      "(14, '2021-12-21 21:48:49.531948', 'Monitor', 83.0)\n",
      "(15, '2021-12-21 21:48:50.546772', 'Monitor', 66.0)\n",
      "(16, '2021-12-21 21:48:51.561724', 'Monitor', 82.0)\n",
      "(17, '2021-12-21 21:48:52.578021', 'Monitor', 53.0)\n",
      "(18, '2021-12-21 21:48:53.597267', 'Monitor', 56.0)\n",
      "(19, '2021-12-21 21:48:54.617071', 'Monitor', 60.0)\n",
      "(20, '2021-12-21 21:48:55.638401', 'Monitor', 74.0)\n"
     ]
    }
   ],
   "source": [
    "# Select nos dados\n",
    "leitura_todos_dados()"
   ]
  },
  {
   "cell_type": "code",
   "execution_count": 6,
   "metadata": {},
   "outputs": [
    {
     "name": "stdout",
     "output_type": "stream",
     "text": [
      "(10, '2018-05-02 14:32:11', 'TECLADO', 90.0)\n",
      "(11, '2021-12-21 21:48:46.487506', 'Monitor', 79.0)\n",
      "(12, '2021-12-21 21:48:47.503144', 'Monitor', 85.0)\n",
      "(13, '2021-12-21 21:48:48.517087', 'Monitor', 66.0)\n",
      "(14, '2021-12-21 21:48:49.531948', 'Monitor', 83.0)\n",
      "(15, '2021-12-21 21:48:50.546772', 'Monitor', 66.0)\n",
      "(16, '2021-12-21 21:48:51.561724', 'Monitor', 82.0)\n",
      "(20, '2021-12-21 21:48:55.638401', 'Monitor', 74.0)\n"
     ]
    }
   ],
   "source": [
    "# Leitura de registros especificos\n",
    "leitura_registros()"
   ]
  },
  {
   "cell_type": "code",
   "execution_count": null,
   "metadata": {},
   "outputs": [],
   "source": [
    "# Lei"
   ]
  },
  {
   "cell_type": "code",
   "execution_count": null,
   "metadata": {},
   "outputs": [],
   "source": [
    "# Encerrando conexão\n",
    "cur.close()\n",
    "conn.close()"
   ]
  }
 ],
 "metadata": {
  "kernelspec": {
   "display_name": "estudos_dados",
   "language": "python",
   "name": "estudos_dados"
  },
  "language_info": {
   "codemirror_mode": {
    "name": "ipython",
    "version": 3
   },
   "file_extension": ".py",
   "mimetype": "text/x-python",
   "name": "python",
   "nbconvert_exporter": "python",
   "pygments_lexer": "ipython3",
   "version": "3.7.6"
  }
 },
 "nbformat": 4,
 "nbformat_minor": 4
}
